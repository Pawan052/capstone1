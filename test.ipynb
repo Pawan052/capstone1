{
 "cells": [
  {
   "cell_type": "code",
   "execution_count": 22,
   "id": "65295c19",
   "metadata": {},
   "outputs": [
    {
     "name": "stdout",
     "output_type": "stream",
     "text": [
      "Header: ['# Body measurements of males >= 18 years old [cm]']\n",
      "Skipping row 2: non-numeric data -> ['#']\n",
      "Skipping row 3: non-numeric data -> ['# Weight (kg)']\n",
      "Skipping row 4: non-numeric data -> ['# Standing Height (cm)']\n",
      "Skipping row 5: non-numeric data -> ['# Upper Arm Length (cm)']\n",
      "Skipping row 6: non-numeric data -> ['# Upper Leg Length (cm)']\n",
      "Skipping row 7: non-numeric data -> ['# Arm Circumference (cm)']\n",
      "Skipping row 8: non-numeric data -> ['# Hip Circumference (cm)']\n",
      "Skipping row 9: non-numeric data -> ['# Waist Circumference (cm)']\n",
      "Skipping row 10: non-numeric data -> ['#']\n",
      "Skipping row 11: non-numeric data -> ['# The US Centers for Disease Control and Prevention']\n",
      "Skipping row 12: non-numeric data -> ['# National Health and Nutrition Examination Survey']\n",
      "Skipping row 13: non-numeric data -> ['# Based on 2017-March 2020 Data on Body Measures (P_BMX) and']\n",
      "Skipping row 14: non-numeric data -> ['# Demographic Variables and Sample Weights (P_DEMO)']\n",
      "Skipping row 15: non-numeric data -> ['# Published: May 2021']\n",
      "Skipping row 16: non-numeric data -> ['# Description: https://wwwn.cdc.gov/Nchs/Nhanes/2017-2018/P_BMX.htm']\n",
      "Skipping row 17: non-numeric data -> ['# and https://wwwn.cdc.gov/Nchs/Nhanes/2017-2018/P_DEMO.htm']\n",
      "Skipping row 18: non-numeric data -> ['# License: public domain as per https://www.cdc.gov/other/agencymaterials.html']\n",
      "Skipping row 19: non-numeric data -> ['BMXWT', 'BMXHT', 'BMXARML', 'BMXLEG', 'BMXARMC', 'BMXHIP', 'BMXWAIST']\n",
      "\n",
      "First 5 rows of data:\n",
      "[[ 98.8 182.3  42.   40.1  38.2 108.2 120.4]\n",
      " [ 74.3 184.2  41.1  41.   30.2  94.5  86.8]\n",
      " [103.7 185.3  47.   44.   32.  107.8 109.6]\n",
      " [ 86.  167.8  39.5  38.4  29.  106.4 108.3]\n",
      " [ 99.4 181.6  40.4  39.9  36.  120.2 107. ]]\n",
      "\n",
      "100th row details: [128.3 174.6  37.4  40.1  40.1 119.9 139.1]\n"
     ]
    }
   ],
   "source": [
    "import csv\n",
    "import numpy\n",
    "\n",
    "data = []\n",
    "\n",
    "# Open the CSV file\n",
    "with open(\"nhanes_adult_male_bmx_2020.csv\", \"r\") as file:\n",
    "    reader = csv.reader(file)\n",
    "    \n",
    "    # Read the header (if you want to keep track of the column names)\n",
    "    header = next(reader)\n",
    "    print(f\"Header: {header}\")\n",
    "    \n",
    "    # Read the data rows\n",
    "    for i, row in enumerate(reader, start=2):  # Start from row 2 since row 1 is the header\n",
    "        try:\n",
    "            # Convert each value to a float and append to the data list\n",
    "            float_row = [float(cell) for cell in row]\n",
    "            data.append(float_row)\n",
    "        except ValueError:\n",
    "            print(f\"Skipping row {i}: non-numeric data -> {row}\")\n",
    "\n",
    "# Convert data list to a NumPy array\n",
    "result = numpy.array(data)\n",
    "\n",
    "# Preview first few rows\n",
    "print(\"\\nFirst 5 rows of data:\")\n",
    "print(result[:5])\n",
    "\n",
    "# Check and print the 100th row\n",
    "if result.shape[0] > 99:\n",
    "    print(\"\\n100th row details:\", result[99])\n",
    "else:\n",
    "    print(\"The dataset does not have 100 valid data rows.\")\n"
   ]
  },
  {
   "cell_type": "markdown",
   "id": "e1db8356",
   "metadata": {},
   "source": [
    "## Basic Information\n",
    "\n",
    "- Jupyter uses python from this location - `c:\\Users\\pawan\\AppData\\Local\\Programs\\Python\\Python311\\python.exe`\n",
    "- to find the available paths of python in windows - `!where python`\n",
    "- to install new libraries in jupyter\n",
    "\n",
    "    ```python\n",
    "    import sys\n",
    "    print(sys.executable)\n",
    "    !{sys.executable} -m pip install numpy, pandas, matplotlib, seaborn\n",
    "    ```"
   ]
  }
 ],
 "metadata": {
  "kernelspec": {
   "display_name": "Python 3",
   "language": "python",
   "name": "python3"
  },
  "language_info": {
   "codemirror_mode": {
    "name": "ipython",
    "version": 3
   },
   "file_extension": ".py",
   "mimetype": "text/x-python",
   "name": "python",
   "nbconvert_exporter": "python",
   "pygments_lexer": "ipython3",
   "version": "3.11.3"
  }
 },
 "nbformat": 4,
 "nbformat_minor": 5
}
